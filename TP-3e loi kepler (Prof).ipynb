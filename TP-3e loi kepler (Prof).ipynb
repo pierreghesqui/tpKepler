{
 "cells": [
  {
   "cell_type": "markdown",
   "id": "7c958e1f",
   "metadata": {},
   "source": [
    "# ✍️Troisième loi de Kepler"
   ]
  },
  {
   "cell_type": "markdown",
   "id": "535b09c5",
   "metadata": {},
   "source": []
  },
  {
   "cell_type": "code",
   "execution_count": 1,
   "id": "ce9ca06b",
   "metadata": {},
   "outputs": [
    {
     "name": "stdout",
     "output_type": "stream",
     "text": [
      "['Mercure', 'Vénus', 'Terre', 'Mars', 'Jupiter', 'Saturne', 'Uranus', 'Neptune']\n",
      "[0.241, 0.615, 1.0, 1.881, 11.862, 29.653, 84.517, 166.805]\n",
      "[0.387, 0.723, 1, 1.524, 5.203, 9.581, 19.259, 30.302]\n"
     ]
    }
   ],
   "source": [
    "import numpy as np\n",
    "listePlanetes=['Mercure','Vénus','Terre', 'Mars','Jupiter', 'Saturne', 'Uranus', 'Neptune']\n",
    "T = [0.241,0.615,1.000,1.881,11.862,29.653,84.517,166.805])\n",
    "a = [0.387,0.723,1,1.524,5.203,9.581,19.259,30.302]\n",
    "\n",
    "print(listePlanetes)\n",
    "print(T)\n",
    "print(a)"
   ]
  },
  {
   "cell_type": "code",
   "execution_count": 4,
   "id": "5fdf0ecf",
   "metadata": {},
   "outputs": [
    {
     "name": "stdout",
     "output_type": "stream",
     "text": [
      "2.9765941465128096e-19\n",
      "2.97271841160477e-19\n",
      "2.9704239186335092e-19\n",
      "2.9692114277570643e-19\n",
      "2.9673774702487898e-19\n",
      "2.969772544971314e-19\n",
      "2.9703346388185805e-19\n",
      "2.970452970044848e-19\n"
     ]
    }
   ],
   "source": [
    "for i in range(len(T)):\n",
    "    T_s = T[i]*365*24*3600\n",
    "    a_m = a[i]*1.496e11\n",
    "    print(T_s**2/a_m**3)"
   ]
  },
  {
   "cell_type": "code",
   "execution_count": 5,
   "id": "b7f30401",
   "metadata": {},
   "outputs": [
    {
     "name": "stdout",
     "output_type": "stream",
     "text": [
      "2.972751934741528e-19\n"
     ]
    }
   ],
   "source": [
    "G = 6.67e-11\n",
    "Msol = 1.989e30\n",
    "pi = 3.14\n",
    "print(4*pi**2/(G*Msol))"
   ]
  }
 ],
 "metadata": {
  "kernelspec": {
   "display_name": "Python 3 (ipykernel)",
   "language": "python",
   "name": "python3"
  },
  "language_info": {
   "codemirror_mode": {
    "name": "ipython",
    "version": 3
   },
   "file_extension": ".py",
   "mimetype": "text/x-python",
   "name": "python",
   "nbconvert_exporter": "python",
   "pygments_lexer": "ipython3",
   "version": "3.9.12"
  }
 },
 "nbformat": 4,
 "nbformat_minor": 5
}
