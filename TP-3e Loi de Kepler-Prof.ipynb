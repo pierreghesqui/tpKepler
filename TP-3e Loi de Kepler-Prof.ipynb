{
 "cells": [
  {
   "cell_type": "markdown",
   "id": "19ef083f",
   "metadata": {},
   "source": [
    "# Troisième loi de Kepler"
   ]
  },
  {
   "cell_type": "markdown",
   "id": "49a8a601",
   "metadata": {},
   "source": [
    "Le programme ci-dessous contient les valeurs des périodes de révolution <code>T</code> et des demi-grand axes <code>a</code> pour les 8 planètes du système solaire. \n",
    "\n",
    "**Attention, les unités ne sont pas dans le système internationale !** \n",
    "Par exemple : La période de révolution de Mercure vaut 0,241 an et son demi grand axe vaut 0,387 u.a. "
   ]
  },
  {
   "cell_type": "code",
   "execution_count": null,
   "id": "0b705317",
   "metadata": {},
   "outputs": [],
   "source": [
    "#Liste des 8 planètes du système solaire\n",
    "listePlanetes=['Mercure','Vénus','Terre', 'Mars','Jupiter', 'Saturne', 'Uranus', 'Neptune']\n",
    "\n",
    "#Liste des périodes EN ANNEE de révolution pour chacune des 8 planètes\n",
    "T = [0.241,0.615,1.000,1.881,11.862,29.653,84.517,166.805]\n",
    "\n",
    "#Liste des demi-grand axes EN Unité.Astronomique pour chacune des 8 planètes\n",
    "a = [0.387,0.723,1,1.524,5.203,9.581,19.259,30.302]\n",
    "\n",
    "print(listePlanetes)\n",
    "print(\"Liste des périodes de révolution (en année) : \",T)\n",
    "print(\"Liste des demi-grands axes (en u.a) : \", a)"
   ]
  },
  {
   "cell_type": "markdown",
   "id": "ca02e44b",
   "metadata": {},
   "source": [
    "✍️ **Exécuter le programme ci-dessus et déterminer la valeur de la période de révolution (T) et du demi-grand axe (a) d'Uranus.** "
   ]
  },
  {
   "cell_type": "markdown",
   "id": "8971066e",
   "metadata": {},
   "source": [
    "On cherche à présent à calculer le rapport $\\frac{T^2}{a^3}$ pour chacune des 8 planètes du système solaire. \n",
    "\n",
    "✍️ **Compléter puis exécuter le code ci-dessous pour remplir cet objectif.** <br>\n",
    "\n",
    "*Indices :*\n",
    "- $1~u.a = 1,496\\times 10^{11}~m$\n",
    "- On rappelle qu'en python $x^n$ s'écrit <code>x**n</code>*\n",
    "- On rappelle qu'en python la puissance de dix s'écrit avec la lettre \"e\". (exemple : $3\\times 10^2$ s'écrit <code>3e2</code>"
   ]
  },
  {
   "cell_type": "code",
   "execution_count": null,
   "id": "61169c74",
   "metadata": {
    "scrolled": true
   },
   "outputs": [],
   "source": [
    "for k in range(len(listePlanetes)):       #A compléter\n",
    "    T_s = T[k]*365*24*3600          #A Convertir en seconde\n",
    "    a_m = a[k]*1.496e+11         #A Convertir en mètre\n",
    "    rapport = T_s**2/a_m**3          #A compléter : calcul du rapport entre T au carré et a au cube\n",
    "    print(\"Pour \", listePlanetes[k],\" : \", rapport)"
   ]
  },
  {
   "cell_type": "markdown",
   "id": "d82d0770",
   "metadata": {},
   "source": [
    "A présent, nous allons calculer la valeur de la constante présente dans la troisième loi de Kepler.\n",
    "\n",
    "✍️ **Compléter puis exécuter le code ci-dessous puis valider ou invalider la seconde loi de Kepler**"
   ]
  },
  {
   "cell_type": "code",
   "execution_count": null,
   "id": "f5c4c8f4",
   "metadata": {},
   "outputs": [],
   "source": [
    "G = 6.67e-11\n",
    "Msol = 1.989e30\n",
    "pi = 3.1416\n",
    "\n",
    "constante =4*pi**2/(Msol*G)            #A compléter : expression de la constante de la loi de kepler\n",
    "\n",
    "print(constante)"
   ]
  }
 ],
 "metadata": {
  "kernelspec": {
   "display_name": "Python 3 (ipykernel)",
   "language": "python",
   "name": "python3"
  },
  "language_info": {
   "codemirror_mode": {
    "name": "ipython",
    "version": 3
   },
   "file_extension": ".py",
   "mimetype": "text/x-python",
   "name": "python",
   "nbconvert_exporter": "python",
   "pygments_lexer": "ipython3",
   "version": "3.9.12"
  }
 },
 "nbformat": 4,
 "nbformat_minor": 5
}
